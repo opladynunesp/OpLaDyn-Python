{
 "cells": [
  {
   "cell_type": "code",
   "execution_count": 2,
   "metadata": {},
   "outputs": [
    {
     "name": "stdout",
     "output_type": "stream",
     "text": [
      "Mongo version 3.7.0\n",
      "\n"
     ]
    }
   ],
   "source": [
    "# -*- coding: utf-8 -*-\n",
    "\"\"\"\n",
    "Created on Aug 29 08:45:00 2018\n",
    "\n",
    "@author: Fernanda Farinelli\n",
    "\"\"\"\n",
    "colecao = []\n",
    "\n",
    "#import libraries\n",
    "import pymongo\n",
    "import sys\n",
    "import nltk\n",
    "\n",
    "\n",
    "print ('Mongo version', pymongo.__version__)\n",
    "print()"
   ]
  },
  {
   "cell_type": "code",
   "execution_count": 3,
   "metadata": {},
   "outputs": [],
   "source": [
    "#Creating a connection to database server\n",
    "conexao = pymongo.MongoClient('localhost', 27017)\n",
    "\n",
    "#Defining a database in such server\n",
    "bancoDados = conexao.nyt"
   ]
  },
  {
   "cell_type": "code",
   "execution_count": 5,
   "metadata": {},
   "outputs": [
    {
     "name": "stdout",
     "output_type": "stream",
     "text": [
      "Total de registros banco de dados NYT: 14099370\n",
      "\n"
     ]
    }
   ],
   "source": [
    "#Connecting to a database collection\n",
    "colecao = bancoDados[\"caratulas\"]\n",
    "\n",
    "#Counting total of documents in such collection\n",
    "print(\"Total de registros banco de dados NYT:\",colecao.estimated_document_count())\n",
    "print()"
   ]
  },
  {
   "cell_type": "code",
   "execution_count": 32,
   "metadata": {},
   "outputs": [],
   "source": [
    "#Functions to get documents from such collection\n",
    "def getAllDocuments():\n",
    "    global colecao\n",
    "    doc = colecao.find().sort('pub_date',pymongo.ASCENDING)\n",
    "    return doc\n",
    "\n",
    "def filterDocuments(filter):\n",
    "    global colecao\n",
    "    #doc = colecao.find(filter).sort({'pub_date':1})\n",
    "    doc = colecao.find(filter).sort('pub_date',pymongo.ASCENDING)\n",
    "    return doc"
   ]
  },
  {
   "cell_type": "code",
   "execution_count": 24,
   "metadata": {},
   "outputs": [
    {
     "name": "stdout",
     "output_type": "stream",
     "text": [
      "Documents that meet the search filter: 0\n"
     ]
    }
   ],
   "source": [
    "#Defining a filter\n",
    "filter = {'keywords.value':'feminicide' or 'femicide'}\n",
    "\n",
    "#Counting total of documents that fit such filter\n",
    "#total = colecao.count_documents(filter)\n",
    "total = 0\n",
    "if total > 0:\n",
    "    documents = filterDocuments(filter)\n",
    "else:\n",
    "    print(\"Documents that meet the search filter:\",total)\n",
    "    "
   ]
  },
  {
   "cell_type": "code",
   "execution_count": 35,
   "metadata": {},
   "outputs": [
    {
     "name": "stdout",
     "output_type": "stream",
     "text": [
      "<pymongo.cursor.Cursor object at 0x00000000093A70F0>\n"
     ]
    }
   ],
   "source": [
    "#Getting all documents\n",
    "#documents = colecao.find().sort('pub_date',pymongo.ASCENDING)\n",
    "documents = getAllDocuments()\n",
    "#print(documents)\n",
    "\n",
    "#Getting documents' abstracts\n",
    "\n",
    "abstracts = colecao.find({},projection = {'_id': False,'abstract':True})\n",
    "print(\"Abstracts' total:\",abstracts.estimated_document_count())\n",
    "\n",
    "#for abstract in abstracts['abstract']:\n",
    "    #print(abstract)\n",
    "\n"
   ]
  },
  {
   "cell_type": "code",
   "execution_count": 10,
   "metadata": {},
   "outputs": [],
   "source": [
    "#for x in fruits:\n",
    "#  print(x)"
   ]
  },
  {
   "cell_type": "code",
   "execution_count": null,
   "metadata": {},
   "outputs": [],
   "source": []
  }
 ],
 "metadata": {
  "kernelspec": {
   "display_name": "Python 3",
   "language": "python",
   "name": "python3"
  },
  "language_info": {
   "codemirror_mode": {
    "name": "ipython",
    "version": 3
   },
   "file_extension": ".py",
   "mimetype": "text/x-python",
   "name": "python",
   "nbconvert_exporter": "python",
   "pygments_lexer": "ipython3",
   "version": "3.6.5"
  }
 },
 "nbformat": 4,
 "nbformat_minor": 2
}
