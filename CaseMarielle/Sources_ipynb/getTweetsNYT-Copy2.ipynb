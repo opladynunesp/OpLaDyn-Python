{
 "cells": [
  {
   "cell_type": "code",
   "execution_count": 1,
   "metadata": {},
   "outputs": [
    {
     "data": {
      "text/plain": [
       "'\\nCreated on Sep 11 2018\\n\\n@author: Fernanda Farinelli\\n'"
      ]
     },
     "execution_count": 1,
     "metadata": {},
     "output_type": "execute_result"
    }
   ],
   "source": [
    "# -*- coding: utf-8 -*-\n",
    "\"\"\"\n",
    "Created on Sep 11 2018\n",
    "\n",
    "@author: Fernanda Farinelli\n",
    "\"\"\""
   ]
  },
  {
   "cell_type": "code",
   "execution_count": 2,
   "metadata": {},
   "outputs": [],
   "source": [
    "consumer_key = 'rWxMBAKB6IgXNVrsXkisVebMU'\n",
    "consumer_secret = 'xRFc47WcbcgoZYb26OHfMXakda7UFIQMvZw2WftbOsAXpBRKMS'\n",
    "access_token_key = '1028301224519589889-hrC4g78bb0PJ9RiEbusi657it517wf'\n",
    "access_token_secret = 'hhwamERYlZUJuLQwWnJtvWvqpB5hFCyNBOCiDVDrT5xIL'\n",
    "account_monitor = 'nytimes'"
   ]
  },
  {
   "cell_type": "code",
   "execution_count": 22,
   "metadata": {},
   "outputs": [],
   "source": [
    "import tweepy #https://github.com/tweepy/tweepy\n",
    "import csv\n",
    "import json\n",
    "import time"
   ]
  },
  {
   "cell_type": "code",
   "execution_count": 25,
   "metadata": {},
   "outputs": [],
   "source": [
    "def get_all_tweets(screen_name):\n",
    "\t#Twitter only allows access to a users most recent 3240 tweets with this method\n",
    "\t\n",
    "\t#authorize twitter, initialize tweepy\n",
    "\tauth = tweepy.OAuthHandler(consumer_key, consumer_secret)\n",
    "\tauth.set_access_token(access_token_key, access_token_secret)\n",
    "\tapi = tweepy.API(auth)\n",
    "\t\n",
    "\t#initialize a list to hold all the tweepy Tweets\n",
    "\talltweets = []\t\n",
    "\t\n",
    "\t#make initial request for most recent tweets (200 is the maximum allowed count)\n",
    "\t#new_tweets = api.user_timeline(screen_name = screen_name,count=200)\n",
    "\tnew_tweets = api.user_timeline(screen_name = screen_name,count=200)    \n",
    "\t\n",
    "\t#save most recent tweets\n",
    "\talltweets.extend(new_tweets)\n",
    "\t\n",
    "\t#save the id of the oldest tweet less one\n",
    "\toldest = alltweets[-1].id - 1\n",
    "\t\n",
    "\t#keep grabbing tweets until there are no tweets left to grab\n",
    "\twhile len(new_tweets) > 0:\n",
    "\t\tprint (\"getting tweets before %s\" % (oldest))\n",
    "\t\t\n",
    "\t\t#all subsiquent requests use the max_id param to prevent duplicates\n",
    "\t\t#new_tweets = api.user_timeline(screen_name = screen_name,count=200,max_id=oldest)\n",
    "\t\tnew_tweets = api.user_timeline(screen_name = screen_name,count=200,max_id=oldest)        \n",
    "\t\t\n",
    "\t\t#save most recent tweets\n",
    "\t\talltweets.extend(new_tweets)\n",
    "\t\t#print(\"type alltweets\",type(alltweets))\n",
    "\t\t#print(\"type new_tweets\",type(new_tweets))\n",
    "\t\t\n",
    "\t\t#update the id of the oldest tweet less one\n",
    "\t\toldest = alltweets[-1].id - 1\n",
    "\t\t\n",
    "\t\tprint (\"...%s tweets downloaded so far\" % (len(alltweets)))\n",
    "\t\n",
    "\ttimestr = time.strftime(\"%Y%m%d-%H%M%S\")\n",
    "\tprint(timestr)\n",
    "\n",
    "\tfilename = \"tweetsNYT\" + timestr\n",
    "    \n",
    "\t#write tweet objects to JSON\n",
    "\t#file = open('tweet.json', 'wb')\n",
    "\tfile = open(filename + '.json','w')\n",
    "\tprint (\"Writing tweet objects to JSON please wait...\")\n",
    "\tfor status in alltweets:\n",
    "\t\tjson.dump(status._json,file,sort_keys = True,indent = 4)\n",
    "\t#close the file\n",
    "\tprint (\"Done with JSON\")\n",
    "\tfile.close()\n",
    "    \n",
    "\t#transform the tweepy tweets into a 2D array that will populate the csv\t\n",
    "\tprint (\"...writing csv - step 1\")\n",
    "\touttweets = [[tweet.id_str, tweet.created_at, tweet.text.encode(\"utf-8\")] for tweet in alltweets]\n",
    "\t#write the csv\t\n",
    "\t#file = open(filename + '.csv','wb')    \n",
    "\t#with open('%s_tweets.csv' % screen_name, 'w') as f:\n",
    "\twith open(filename + '.csv', 'w') as f:\n",
    "\t\tprint (\"...writing csv\")        \n",
    "\t\twriter = csv.writer(f)\n",
    "\t\twriter.writerow([\"id\",\"created_at\",\"text\"])        \n",
    "\t\twriter.writerows(outtweets)\n",
    "\t\t \n",
    "\tpass"
   ]
  },
  {
   "cell_type": "code",
   "execution_count": 26,
   "metadata": {},
   "outputs": [
    {
     "name": "stdout",
     "output_type": "stream",
     "text": [
      "getting tweets before 1038898516041580544\n",
      "...400 tweets downloaded so far\n",
      "getting tweets before 1038157485704658943\n",
      "...600 tweets downloaded so far\n",
      "getting tweets before 1037526580283801600\n",
      "...800 tweets downloaded so far\n",
      "getting tweets before 1036989273680084992\n",
      "...1000 tweets downloaded so far\n",
      "getting tweets before 1036327013190172673\n",
      "...1200 tweets downloaded so far\n",
      "getting tweets before 1035610952102801409\n",
      "...1400 tweets downloaded so far\n",
      "getting tweets before 1034922410192060415\n",
      "...1600 tweets downloaded so far\n",
      "getting tweets before 1034323460451958783\n",
      "...1800 tweets downloaded so far\n",
      "getting tweets before 1033641463995936767\n",
      "...2000 tweets downloaded so far\n",
      "getting tweets before 1032934568813309951\n",
      "...2200 tweets downloaded so far\n",
      "getting tweets before 1032258648083496960\n",
      "...2400 tweets downloaded so far\n",
      "getting tweets before 1031683818774773760\n",
      "...2600 tweets downloaded so far\n",
      "getting tweets before 1030980984383184900\n",
      "...2800 tweets downloaded so far\n",
      "getting tweets before 1030396890121228288\n",
      "...3000 tweets downloaded so far\n",
      "getting tweets before 1029721921175408639\n",
      "...3200 tweets downloaded so far\n",
      "getting tweets before 1029042413829017599\n",
      "...3221 tweets downloaded so far\n",
      "getting tweets before 1028970925906178047\n",
      "...3221 tweets downloaded so far\n",
      "20180911-120816\n",
      "Writing tweet objects to JSON please wait...\n",
      "Done with JSON\n",
      "...writing csv - step 1\n",
      "...writing csv\n"
     ]
    }
   ],
   "source": [
    "if __name__ == '__main__':\n",
    "\t#pass in the username of the account you want to download\n",
    "\tget_all_tweets(account_monitor)"
   ]
  }
 ],
 "metadata": {
  "kernelspec": {
   "display_name": "Python 3",
   "language": "python",
   "name": "python3"
  },
  "language_info": {
   "codemirror_mode": {
    "name": "ipython",
    "version": 3
   },
   "file_extension": ".py",
   "mimetype": "text/x-python",
   "name": "python",
   "nbconvert_exporter": "python",
   "pygments_lexer": "ipython3",
   "version": "3.6.5"
  }
 },
 "nbformat": 4,
 "nbformat_minor": 2
}
