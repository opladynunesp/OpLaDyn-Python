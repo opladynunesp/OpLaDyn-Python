{
 "cells": [
  {
   "cell_type": "code",
   "execution_count": 1,
   "metadata": {},
   "outputs": [
    {
     "data": {
      "text/plain": [
       "'\\nCreated on Sep 11 2018\\n\\n@author: Fernanda Farinelli\\n'"
      ]
     },
     "execution_count": 1,
     "metadata": {},
     "output_type": "execute_result"
    }
   ],
   "source": [
    "# -*- coding: utf-8 -*-\n",
    "\"\"\"\n",
    "Created on Sep 11 2018\n",
    "\n",
    "@author: Fernanda Farinelli\n",
    "\"\"\""
   ]
  },
  {
   "cell_type": "code",
   "execution_count": 2,
   "metadata": {},
   "outputs": [],
   "source": [
    "consumer_key = 'L4YzGvvrTHOJ0g84Ve1vPdlZw'\n",
    "consumer_secret = 'JhK5F7L2hDx1Bnr0Er8tpzdYPd7HhBvBRSZGGdFUVsxyrTanrm'\n",
    "access_token_key = '1028301224519589889-QmX9vmaGqEtQmz2brG3VEEf60VxE3S'\n",
    "access_token_secret = 'eI7YQKC2YAzPASwQBJCrzz0Egvy3Q0VPVzEdp9Klua9VD'\n",
    "account_monitor = 'nytimes'\n",
    "folderOutput = 'C:\\\\Users\\\\unesp\\\\ProjetoOpLaDyn\\\\outputs\\\\'"
   ]
  },
  {
   "cell_type": "code",
   "execution_count": 3,
   "metadata": {},
   "outputs": [],
   "source": [
    "import tweepy #https://github.com/tweepy/tweepy\n",
    "import csv\n",
    "import json\n",
    "import time"
   ]
  },
  {
   "cell_type": "code",
   "execution_count": 4,
   "metadata": {},
   "outputs": [],
   "source": [
    "def get_all_tweets(screen_name):\n",
    "\t#Twitter only allows access to a users most recent 3240 tweets with this method\n",
    "\t\n",
    "\t#authorize twitter, initialize tweepy\n",
    "\tauth = tweepy.OAuthHandler(consumer_key, consumer_secret)\n",
    "\tauth.set_access_token(access_token_key, access_token_secret)\n",
    "\tapi = tweepy.API(auth)\n",
    "\t\n",
    "\t#initialize a list to hold all the tweepy Tweets\n",
    "\talltweets = []\t\n",
    "\t\n",
    "\t#make initial request for most recent tweets (200 is the maximum allowed count)\n",
    "\t#new_tweets = api.user_timeline(screen_name = screen_name,count=200)\n",
    "\tnew_tweets = api.user_timeline(screen_name = screen_name,count=200)    \n",
    "\t\n",
    "\t#save most recent tweets\n",
    "\talltweets.extend(new_tweets)\n",
    "\t\n",
    "\t#save the id of the oldest tweet less one\n",
    "\toldest = alltweets[-1].id - 1\n",
    "\t\n",
    "\t#keep grabbing tweets until there are no tweets left to grab\n",
    "\twhile len(new_tweets) > 0:\n",
    "\t\tprint (\"getting tweets before %s\" % (oldest))\n",
    "\t\t\n",
    "\t\t#all subsiquent requests use the max_id param to prevent duplicates\n",
    "\t\t#new_tweets = api.user_timeline(screen_name = screen_name,count=200,max_id=oldest)\n",
    "\t\tnew_tweets = api.user_timeline(screen_name = screen_name,count=200,max_id=oldest)        \n",
    "\t\t\n",
    "\t\t#save most recent tweets\n",
    "\t\talltweets.extend(new_tweets)\n",
    "\t\t#print(\"type alltweets\",type(alltweets))\n",
    "\t\t#print(\"type new_tweets\",type(new_tweets))\n",
    "\t\t\n",
    "\t\t#update the id of the oldest tweet less one\n",
    "\t\toldest = alltweets[-1].id - 1\n",
    "\t\t\n",
    "\t\tprint (\"...%s tweets downloaded so far\" % (len(alltweets)))\n",
    "\t\n",
    "\ttimestr = time.strftime(\"%Y%m%d-%H%M%S\")\n",
    "\tprint(timestr)\n",
    "\n",
    "\tfilename = folderOutput + \"tweetsNYT_\" + timestr\n",
    "    \n",
    "\t#write tweet objects to JSON\n",
    "\t#file = open('tweet.json', 'wb')\n",
    "\tfile = open(filename + '.json','w')\n",
    "\tprint (\"Writing tweet objects to JSON please wait...\")\n",
    "\tfor status in alltweets:\n",
    "\t\tjson.dump(status._json,file,sort_keys = True,indent = 4)\n",
    "\t#close the file\n",
    "\tprint (\"Done with JSON\")\n",
    "\tfile.close()\n",
    "    \n",
    "\t#transform the tweepy tweets into a 2D array that will populate the csv\t\n",
    "\tprint (\"...writing csv - step 1\")\n",
    "\touttweets = [[tweet.id_str, tweet.created_at, tweet.text.encode(\"utf-8\")] for tweet in alltweets]\n",
    "\t#write the csv\t\n",
    "\t#file = open(filename + '.csv','wb')    \n",
    "\t#with open('%s_tweets.csv' % screen_name, 'w') as f:\n",
    "\twith open(filename + '.csv', 'w') as f:\n",
    "\t\tprint (\"...writing csv\")        \n",
    "\t\twriter = csv.writer(f)\n",
    "\t\twriter.writerow([\"id\",\"created_at\",\"text\"])        \n",
    "\t\twriter.writerows(outtweets)\n",
    "\t\t \n",
    "\tpass"
   ]
  },
  {
   "cell_type": "code",
   "execution_count": 5,
   "metadata": {},
   "outputs": [
    {
     "name": "stdout",
     "output_type": "stream",
     "text": [
      "getting tweets before 1039245893759844352\n",
      "...400 tweets downloaded so far\n",
      "getting tweets before 1038584219134504961\n",
      "...600 tweets downloaded so far\n",
      "getting tweets before 1037891208201289727\n",
      "...800 tweets downloaded so far\n",
      "getting tweets before 1037319447411937281\n",
      "...1000 tweets downloaded so far\n",
      "getting tweets before 1036757259223744512\n",
      "...1200 tweets downloaded so far\n",
      "getting tweets before 1036012688818823167\n",
      "...1400 tweets downloaded so far\n",
      "getting tweets before 1035329618759303167\n",
      "...1600 tweets downloaded so far\n",
      "getting tweets before 1034693401504038912\n",
      "...1800 tweets downloaded so far\n",
      "getting tweets before 1034039779397169152\n",
      "...2000 tweets downloaded so far\n",
      "getting tweets before 1033360897505480703\n",
      "...2200 tweets downloaded so far\n",
      "getting tweets before 1032643656157749247\n",
      "...2400 tweets downloaded so far\n",
      "getting tweets before 1032036379956572159\n",
      "...2600 tweets downloaded so far\n",
      "getting tweets before 1031404241171230719\n",
      "...2800 tweets downloaded so far\n",
      "getting tweets before 1030698263412973567\n",
      "...3000 tweets downloaded so far\n",
      "getting tweets before 1030116934875009028\n",
      "...3200 tweets downloaded so far\n",
      "getting tweets before 1029461432079929343\n",
      "...3238 tweets downloaded so far\n",
      "getting tweets before 1029341906076139519\n",
      "...3238 tweets downloaded so far\n",
      "20180912-124611\n",
      "Writing tweet objects to JSON please wait...\n",
      "Done with JSON\n",
      "...writing csv - step 1\n",
      "...writing csv\n"
     ]
    }
   ],
   "source": [
    "if __name__ == '__main__':\n",
    "\t#pass in the username of the account you want to download\n",
    "\tget_all_tweets(account_monitor)"
   ]
  },
  {
   "cell_type": "code",
   "execution_count": null,
   "metadata": {},
   "outputs": [],
   "source": []
  }
 ],
 "metadata": {
  "kernelspec": {
   "display_name": "Python 3",
   "language": "python",
   "name": "python3"
  },
  "language_info": {
   "codemirror_mode": {
    "name": "ipython",
    "version": 3
   },
   "file_extension": ".py",
   "mimetype": "text/x-python",
   "name": "python",
   "nbconvert_exporter": "python",
   "pygments_lexer": "ipython3",
   "version": "3.6.5"
  }
 },
 "nbformat": 4,
 "nbformat_minor": 2
}
