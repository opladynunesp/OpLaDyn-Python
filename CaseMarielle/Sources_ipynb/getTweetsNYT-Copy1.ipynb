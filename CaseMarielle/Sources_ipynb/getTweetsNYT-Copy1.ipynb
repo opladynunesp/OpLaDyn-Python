{
 "cells": [
  {
   "cell_type": "code",
   "execution_count": 1,
   "metadata": {},
   "outputs": [
    {
     "data": {
      "text/plain": [
       "'\\nCreated on Sep 11 2018\\n\\n@author: Fernanda Farinelli\\n'"
      ]
     },
     "execution_count": 1,
     "metadata": {},
     "output_type": "execute_result"
    }
   ],
   "source": [
    "# -*- coding: utf-8 -*-\n",
    "\"\"\"\n",
    "Created on Sep 11 2018\n",
    "\n",
    "@author: Fernanda Farinelli\n",
    "\"\"\""
   ]
  },
  {
   "cell_type": "code",
   "execution_count": 2,
   "metadata": {},
   "outputs": [],
   "source": [
    "consumer_key = 'rWxMBAKB6IgXNVrsXkisVebMU'\n",
    "consumer_secret = 'xRFc47WcbcgoZYb26OHfMXakda7UFIQMvZw2WftbOsAXpBRKMS'\n",
    "access_token_key = '1028301224519589889-hrC4g78bb0PJ9RiEbusi657it517wf'\n",
    "access_token_secret = 'hhwamERYlZUJuLQwWnJtvWvqpB5hFCyNBOCiDVDrT5xIL'\n",
    "account_monitor = 'nytimes'"
   ]
  },
  {
   "cell_type": "code",
   "execution_count": 3,
   "metadata": {},
   "outputs": [],
   "source": [
    "import tweepy #https://github.com/tweepy/tweepy\n",
    "import csv"
   ]
  },
  {
   "cell_type": "code",
   "execution_count": 10,
   "metadata": {},
   "outputs": [],
   "source": [
    "def get_all_tweets(screen_name):\n",
    "\t#Twitter only allows access to a users most recent 3240 tweets with this method\n",
    "\t\n",
    "\t#authorize twitter, initialize tweepy\n",
    "\tauth = tweepy.OAuthHandler(consumer_key, consumer_secret)\n",
    "\tauth.set_access_token(access_token_key, access_token_secret)\n",
    "\tapi = tweepy.API(auth)\n",
    "\t\n",
    "\t#initialize a list to hold all the tweepy Tweets\n",
    "\talltweets = []\t\n",
    "\t\n",
    "\t#make initial request for most recent tweets (200 is the maximum allowed count)\n",
    "\t#new_tweets = api.user_timeline(screen_name = screen_name,count=200)\n",
    "\tnew_tweets = api.user_timeline(screen_name = screen_name,count=200)    \n",
    "\t\n",
    "\t#save most recent tweets\n",
    "\talltweets.extend(new_tweets)\n",
    "\t\n",
    "\t#save the id of the oldest tweet less one\n",
    "\toldest = alltweets[-1].id - 1\n",
    "\t\n",
    "\t#keep grabbing tweets until there are no tweets left to grab\n",
    "\twhile len(new_tweets) > 0:\n",
    "\t\tprint (\"getting tweets before %s\" % (oldest))\n",
    "\t\t\n",
    "\t\t#all subsiquent requests use the max_id param to prevent duplicates\n",
    "\t\t#new_tweets = api.user_timeline(screen_name = screen_name,count=200,max_id=oldest)\n",
    "\t\tnew_tweets = api.user_timeline(screen_name = screen_name,count=2,max_id=oldest)        \n",
    "\t\t\n",
    "\t\t#save most recent tweets\n",
    "\t\talltweets.extend(new_tweets)\n",
    "\t\tprint(\"type alltweets\",type(alltweets))\n",
    "\t\tprint(\"type new_tweets\",type(new_tweets))\n",
    "        #update the id of the oldest tweet less one\n",
    "\t\toldest = alltweets[-1].id - 1\n",
    "\t\t\n",
    "\t\tprint (\"...%s tweets downloaded so far\" % (len(alltweets)))\n",
    "\t\n",
    "\t#transform the tweepy tweets into a 2D array that will populate the csv\t\n",
    "\tprint (\"...writing csv - step 1\")\n",
    "\touttweets = [[tweet.id_str, tweet.created_at, tweet.text.encode(\"utf-8\")] for tweet in alltweets]\n",
    "\t#write the csv\t\n",
    "\twith open('%s_tweets.csv' % screen_name, 'w') as f:\n",
    "\t\tprint (\"...writing csv\")        \n",
    "\t\twriter = csv.writer(f)\n",
    "\t\twriter.writerow([\"id\",\"created_at\",\"text\"])        \n",
    "\t\twriter.writerows(outtweets)\n",
    "\t\t\n",
    "\twith \n",
    "\tpass"
   ]
  },
  {
   "cell_type": "code",
   "execution_count": 11,
   "metadata": {},
   "outputs": [
    {
     "name": "stdout",
     "output_type": "stream",
     "text": [
      "getting tweets before 1038887288812568576\n",
      "...400 tweets downloaded so far\n",
      "getting tweets before 1038148584418549759\n",
      "...600 tweets downloaded so far\n",
      "getting tweets before 1037521274292064256\n",
      "...800 tweets downloaded so far\n",
      "getting tweets before 1036983358092451839\n",
      "...1000 tweets downloaded so far\n",
      "getting tweets before 1036312845254897664\n",
      "...1200 tweets downloaded so far\n",
      "getting tweets before 1035599631005220865\n",
      "...1400 tweets downloaded so far\n",
      "getting tweets before 1034911080659738623\n",
      "...1600 tweets downloaded so far\n",
      "getting tweets before 1034312153032024063\n",
      "...1800 tweets downloaded so far\n",
      "getting tweets before 1033625910778507263\n",
      "...2000 tweets downloaded so far\n",
      "getting tweets before 1032923306339586047\n",
      "...2200 tweets downloaded so far\n",
      "getting tweets before 1032251085455540223\n",
      "...2400 tweets downloaded so far\n",
      "getting tweets before 1031674006586515456\n",
      "...2600 tweets downloaded so far\n",
      "getting tweets before 1030967597121118208\n",
      "...2800 tweets downloaded so far\n",
      "getting tweets before 1030386766161891328\n",
      "...3000 tweets downloaded so far\n",
      "getting tweets before 1029716862857371648\n",
      "...3200 tweets downloaded so far\n",
      "getting tweets before 1029031091905150975\n",
      "...3218 tweets downloaded so far\n",
      "getting tweets before 1028970925906178047\n",
      "...3218 tweets downloaded so far\n",
      "...writing csv - step 1\n",
      "...writing csv\n"
     ]
    }
   ],
   "source": [
    "if __name__ == '__main__':\n",
    "\t#pass in the username of the account you want to download\n",
    "\tget_all_tweets(account_monitor)"
   ]
  },
  {
   "cell_type": "code",
   "execution_count": null,
   "metadata": {},
   "outputs": [],
   "source": []
  }
 ],
 "metadata": {
  "kernelspec": {
   "display_name": "Python 3",
   "language": "python",
   "name": "python3"
  },
  "language_info": {
   "codemirror_mode": {
    "name": "ipython",
    "version": 3
   },
   "file_extension": ".py",
   "mimetype": "text/x-python",
   "name": "python",
   "nbconvert_exporter": "python",
   "pygments_lexer": "ipython3",
   "version": "3.6.5"
  }
 },
 "nbformat": 4,
 "nbformat_minor": 2
}
