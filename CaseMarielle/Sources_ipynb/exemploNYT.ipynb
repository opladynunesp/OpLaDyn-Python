{
 "cells": [
  {
   "cell_type": "code",
   "execution_count": 1,
   "metadata": {},
   "outputs": [],
   "source": [
    "from pymongo import MongoClient\n",
    "\n",
    "conn = MongoClient()\n",
    "\n",
    "import pprint\n",
    "\n",
    "col_archive_nyt = conn['nyt']['caratulas']\n",
    "\n",
    "result = col_archive_nyt.aggregate ([\n",
    "    {\n",
    "      \"$project\":\n",
    "        {\n",
    "            \"year\": { \"$year\": \"$pub date\"},\n",
    "            \"lead_paragraph\": \"$lead_paragraph\",\n",
    "            \"headline\": \"$headline\",\n",
    "            \"pub date\": \"$pub date\",\n",
    "            \"articleId\": \"$ id\"\n",
    "        }\n",
    "    },\n",
    "    {\n",
    "        \"$match\": { \"year\": 1970, \"lead_paragraph\": {'$regex': \".*cherri.*\"}}\n",
    "    }\n",
    "])\n",
    "\n",
    "\n",
    "for r in result:\n",
    "    pprint.pprint(r)\n",
    "    "
   ]
  }
 ],
 "metadata": {
  "kernelspec": {
   "display_name": "Python 3",
   "language": "python",
   "name": "python3"
  },
  "language_info": {
   "codemirror_mode": {
    "name": "ipython",
    "version": 3
   },
   "file_extension": ".py",
   "mimetype": "text/x-python",
   "name": "python",
   "nbconvert_exporter": "python",
   "pygments_lexer": "ipython3",
   "version": "3.6.5"
  }
 },
 "nbformat": 4,
 "nbformat_minor": 2
}
