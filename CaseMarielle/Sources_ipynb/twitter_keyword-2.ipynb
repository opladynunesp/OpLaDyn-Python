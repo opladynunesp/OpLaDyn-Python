{
 "cells": [
  {
   "cell_type": "markdown",
   "metadata": {},
   "source": [
    "# A Twitter Keyword search\n",
    "\n",
    "The following is a little bit of Python code to scrape Twitter by keyword and geolocation.  Of course, many people do not have geolocation enabled on their devices so the number of tweets is limited.  Currently, it looks for the word 'library' in Tweets within 10 km of the Main Quad at the University of Alberta.\n",
    "\n",
    "It should be noted that I have removed the keys for privacy purposes.\n",
    "\n",
    "So here is the code with the output below it:"
   ]
  },
  {
   "cell_type": "code",
   "execution_count": 35,
   "metadata": {},
   "outputs": [
    {
     "name": "stdout",
     "output_type": "stream",
     "text": [
      "2017-05-13 23:54:09 @matt_bowes He doesn't read a whole lot,  he's close to 80 so he does his own thing..  I, however,  will be putting this on my library list en\n",
      "2017-05-13 23:38:52 You'd think the #sensvspens game were played in a library #quiet #missingOilers #StanleyCupPlayoffs2017 en\n",
      "2017-05-13 22:15:02 Missed the book sale? Don't fret, our pop-up shop at the Lois Hole Library is open until 6 p.m. Get your gear:… https://t.co/HHgkeu6LYb en\n",
      "2017-05-13 21:30:02 There's only a few hours left of our Books2Buy sale at our Lois Hole Library. Have you stopped by yet?… https://t.co/4s2W8tYrU0 en\n",
      "2017-05-13 21:15:27 Me, Tanya (The Book Cellar), &amp; Megan from the @OurYellowknife Library. @kidsbookcentre @janine_nt #TDBookWeek https://t.co/9eG6bhn8zn en\n",
      "2017-05-13 19:58:50 RT @EPLdotCA: Calling all literary lovers: head to our Lois Hole Library today for $1 books, audiobooks and more PLUS fun EPL swag, all for… en\n",
      "2017-05-13 18:55:03 Calling all literary lovers: head to our Lois Hole Library today for $1 books, audiobooks and more PLUS fun EPL swa… https://t.co/IyegQdxmve en\n",
      "2017-05-13 18:20:22 New reference book: Valuation Handbook: Guide to the Cost of Capital, 2017: https://t.co/cZpVDByYiE https://t.co/Du7yG4CdxJ en\n",
      "2017-05-13 18:05:13 Argentina’s page turner: How a Canadian author became ensnared in Argentine's library revolution /via @globeandmail https://t.co/r510C8O0fB en\n",
      "2017-05-13 17:04:51 School Council meets Monday, May 15.  Join us in the library at 630 PM.  Hope to see many parents come join the discussion! en\n"
     ]
    }
   ],
   "source": [
    "import tweepy\n",
    "\n",
    "class TwitterAuth:\n",
    "\n",
    "    #These keys are needed for code to work\n",
    "    consumer_key=\"\"\n",
    "    consumer_secret=\"\"\n",
    "    access_token=\"\"\n",
    "    access_token_secret=\"\"\n",
    "\n",
    "keys = {'consumer_key':TwitterAuth.consumer_key, 'consumer_secret':TwitterAuth.consumer_secret,'access_token_key':TwitterAuth.access_token, 'access_token_secret':TwitterAuth.access_token_secret}\n",
    "auth = tweepy.OAuthHandler(keys['consumer_key'], keys['consumer_secret'])\n",
    "api = tweepy.API(auth)\n",
    "\n",
    "word_tweet = tweepy.Cursor(api.search, q='library', geocode=\"53.526488,-113.525526,10km\").items(10)\n",
    "\n",
    "for tweet in word_tweet:\n",
    "   print tweet.created_at, tweet.text, tweet.lang"
   ]
  }
 ],
 "metadata": {
  "kernelspec": {
   "display_name": "Python 2",
   "language": "python",
   "name": "python2"
  },
  "language_info": {
   "codemirror_mode": {
    "name": "ipython",
    "version": 2
   },
   "file_extension": ".py",
   "mimetype": "text/x-python",
   "name": "python",
   "nbconvert_exporter": "python",
   "pygments_lexer": "ipython2",
   "version": "2.7.13"
  }
 },
 "nbformat": 4,
 "nbformat_minor": 2
}
