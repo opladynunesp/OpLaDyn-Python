{
 "cells": [
  {
   "cell_type": "code",
   "execution_count": 1,
   "metadata": {},
   "outputs": [],
   "source": [
    "# -*- coding: utf-8 -*-\n",
    "\"\"\"\n",
    "Created on Aug 30 10:45:00 2018\n",
    "@author: Fernanda Farinelli\n",
    "@description: \n",
    "\n",
    "This program connect to NYT (New York Times) database, read the caratulas collection:\n",
    "1) Find documents that has the word \"feminicide\" or \"femicide\" in title (headline field)\n",
    "\n",
    "\n",
    "\"\"\""
   ]
  },
  {
   "cell_type": "code",
   "execution_count": 2,
   "metadata": {},
   "outputs": [],
   "source": [
    "# Defining constants\n",
    "server = 'localhost'\n",
    "port = 27017\n",
    "dbname = 'teste1'\n",
    "collectionname = 'mycollections'"
   ]
  },
  {
   "cell_type": "code",
   "execution_count": 3,
   "metadata": {},
   "outputs": [],
   "source": [
    "# Defining functions\n",
    "\n",
    "def getServerConnection():\n",
    "    global server, port\n",
    "    return pymongo.MongoClient(server,port)\n",
    "\n",
    "#Defining a database in such server\n",
    "def getDBConnection(con):\n",
    "    global dbname\n",
    "    return con[dbname]\n",
    "\n",
    "def getCollection(dbs):\n",
    "    global collectionname\n",
    "    return dbs[collectionname]\n",
    "\n",
    "def getDbCollection(con):\n",
    "    global dbname, collectionname\n",
    "    return con[dbname][collectionname]\n"
   ]
  },
  {
   "cell_type": "code",
   "execution_count": 4,
   "metadata": {},
   "outputs": [
    {
     "name": "stdout",
     "output_type": "stream",
     "text": [
      "Mongo version 3.7.0\n",
      "\n"
     ]
    }
   ],
   "source": [
    "# Import libraries\n",
    "\n",
    "import pymongo\n",
    "import datetime\n",
    "import pprint\n",
    "from bson.son import SON\n",
    "\n",
    "#import nltk\n",
    "\n",
    "print ('Mongo version', pymongo.__version__)\n",
    "print()"
   ]
  },
  {
   "cell_type": "code",
   "execution_count": 5,
   "metadata": {},
   "outputs": [
    {
     "name": "stdout",
     "output_type": "stream",
     "text": [
      "Total de registros banco:  3\n",
      "\n"
     ]
    }
   ],
   "source": [
    "#Getting a database server connection\n",
    "connection = getServerConnection()\n",
    "\n",
    "#Getting a database\n",
    "database = getDBConnection(connection)\n",
    "\n",
    "#Getting a collection\n",
    "collection = getCollection(database)\n",
    "\n",
    "#Counting total of documents in such collection\n",
    "print(\"Total de registros banco: \",collection.estimated_document_count())\n",
    "print()"
   ]
  },
  {
   "cell_type": "code",
   "execution_count": 6,
   "metadata": {},
   "outputs": [
    {
     "name": "stdout",
     "output_type": "stream",
     "text": [
      "None\n"
     ]
    }
   ],
   "source": [
    "import re\n",
    "regx = re.compile(\"/obama/\", re.IGNORECASE)\n",
    "print(collection.find_one({\"headline.main\":regx}))\n"
   ]
  },
  {
   "cell_type": "code",
   "execution_count": 7,
   "metadata": {},
   "outputs": [
    {
     "name": "stdout",
     "output_type": "stream",
     "text": [
      "None\n",
      "None\n"
     ]
    }
   ],
   "source": [
    "word = '/obama/i'\n",
    "print(collection.find_one({\"headline.main\":{'$regex': word}}))\n",
    "\n",
    "print(collection.find_one({\"headline.main\".lower():'/obama/'}))"
   ]
  },
  {
   "cell_type": "code",
   "execution_count": 8,
   "metadata": {},
   "outputs": [
    {
     "name": "stdout",
     "output_type": "stream",
     "text": [
      "Start: 2018-08-31 14:29:24.889951\n",
      "End: 2018-08-31 14:29:24.890952\n",
      "\n"
     ]
    }
   ],
   "source": [
    "print('Start:',datetime.datetime.now())\n",
    "result = collection.aggregate([\n",
    "        {\n",
    "               \"$match\": {\"headline.main\".lower():'/obama/'}\n",
    "        },\n",
    "        {\n",
    "                \"$group\": {\"_id\": \"$tags\", \"count\": {\"$sum\": 1}}\n",
    "        },\n",
    "        {\n",
    "            \"$group\": {\"_id\": None, \"total\": {\"$sum\": 1}, \"details\":{\"$push\":{\"groupby\": \"$_id\", \"count\": \"$count\"}}}\n",
    "        },\n",
    "        {\n",
    "                \"$sort\": SON([(\"count\", -1), (\"_id\", -1)])\n",
    "        }\n",
    "        ])\n",
    "   \n",
    "print('End:',datetime.datetime.now())\n",
    "print()"
   ]
  },
  {
   "cell_type": "code",
   "execution_count": 9,
   "metadata": {},
   "outputs": [
    {
     "name": "stdout",
     "output_type": "stream",
     "text": [
      "<class 'pymongo.command_cursor.CommandCursor'>\n",
      "[]\n"
     ]
    }
   ],
   "source": [
    "print(type(result))\n",
    "\n",
    "print(list(result))"
   ]
  }
 ],
 "metadata": {
  "kernelspec": {
   "display_name": "Python 3",
   "language": "python",
   "name": "python3"
  },
  "language_info": {
   "codemirror_mode": {
    "name": "ipython",
    "version": 3
   },
   "file_extension": ".py",
   "mimetype": "text/x-python",
   "name": "python",
   "nbconvert_exporter": "python",
   "pygments_lexer": "ipython3",
   "version": "3.6.5"
  }
 },
 "nbformat": 4,
 "nbformat_minor": 2
}
