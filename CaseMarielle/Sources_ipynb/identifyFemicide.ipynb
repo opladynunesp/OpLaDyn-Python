{
 "cells": [
  {
   "cell_type": "code",
   "execution_count": 1,
   "metadata": {},
   "outputs": [
    {
     "data": {
      "text/plain": [
       "'\\nCreated on Aug 30 10:45:00 2018\\n@author: Fernanda Farinelli\\n@description: \\n\\nThis program connect to NYT (New York Times) database, read the caratulas collection:\\n1) Find documents that has the word \"feminicide\" or \"femicide\" in title (headline field)\\n\\n\\n'"
      ]
     },
     "execution_count": 1,
     "metadata": {},
     "output_type": "execute_result"
    }
   ],
   "source": [
    "# -*- coding: utf-8 -*-\n",
    "\"\"\"\n",
    "Created on Aug 30 10:45:00 2018\n",
    "@author: Fernanda Farinelli\n",
    "@description: \n",
    "\n",
    "This program connect to NYT (New York Times) database, read the caratulas collection:\n",
    "1) Find documents that has the word \"feminicide\" or \"femicide\" in title (headline field)\n",
    "\n",
    "\n",
    "\"\"\""
   ]
  },
  {
   "cell_type": "code",
   "execution_count": 2,
   "metadata": {},
   "outputs": [],
   "source": [
    "# Defining constants\n",
    "server = 'localhost'\n",
    "port = 27017\n",
    "dbname = 'nyt'\n",
    "collectionname = 'caratulas'"
   ]
  },
  {
   "cell_type": "code",
   "execution_count": 3,
   "metadata": {},
   "outputs": [],
   "source": [
    "# Defining functions\n",
    "\n",
    "def getServerConnection():\n",
    "    global server, port\n",
    "    #Creating a connection to database server\n",
    "    return pymongo.MongoClient(server,port)\n",
    "\n",
    "#Defining a database in such server\n",
    "def getDBConnection(con):\n",
    "    global dbname\n",
    "    #bancoDados = conexao['nyt']\n",
    "    #bancoDados = conexao.nyt    \n",
    "    return con[dbname]\n",
    "\n",
    "def getCollection(dbs):\n",
    "    global collectionname\n",
    "    #Connecting to a database collection\n",
    "    #colecao = bancoDados[\"caratulas\"]\n",
    "    return dbs[collectionname]\n",
    "\n",
    "def getDbCollection(con):\n",
    "    global dbname, collectionname\n",
    "    return con[dbname][collectionname]\n",
    "\n",
    "def searchWord(collection,field,regex):\n",
    "    print('Start:',datetime.datetime.now())\n",
    "    r = collection.aggregate([\n",
    "        {\n",
    "               \"$match\": {field.lower(): {'$regex': regex}}\n",
    "        },\n",
    "        {\n",
    "                \"$group\": {\"_id\": \"$tags\", \"count\": {\"$sum\": 1}}\n",
    "        },\n",
    "        {\n",
    "            \"$group\": {\"_id\": None, \"total\": {\"$sum\": 1}, \"details\":{\"$push\":{\"groupby\": \"$_id\", \"count\": \"$count\"}}}\n",
    "        },\n",
    "        {\n",
    "                \"$sort\": SON([(\"count\", -1), (\"_id\", -1)])\n",
    "        }\n",
    "        ])\n",
    "    print('End:',datetime.datetime.now())\n",
    "    print()    \n",
    "    return r"
   ]
  },
  {
   "cell_type": "code",
   "execution_count": 12,
   "metadata": {},
   "outputs": [
    {
     "name": "stdout",
     "output_type": "stream",
     "text": [
      "Mongo version 3.7.0\n",
      "\n"
     ]
    }
   ],
   "source": [
    "# Import libraries\n",
    "\n",
    "import pymongo\n",
    "import datetime\n",
    "from pprint import *\n",
    "from bson.son import SON\n",
    "\n",
    "#import nltk\n",
    "\n",
    "print ('Mongo version', pymongo.__version__)\n",
    "print()"
   ]
  },
  {
   "cell_type": "code",
   "execution_count": 5,
   "metadata": {},
   "outputs": [
    {
     "name": "stdout",
     "output_type": "stream",
     "text": [
      "Total de registros banco de dados NYT: 14099370\n",
      "\n"
     ]
    }
   ],
   "source": [
    "#Getting a database server connection\n",
    "connection = getServerConnection()\n",
    "\n",
    "#Getting a database\n",
    "database = getDBConnection(connection)\n",
    "\n",
    "#Getting a collection\n",
    "collection = getCollection(database)\n",
    "\n",
    "#Counting total of documents in such collection\n",
    "print(\"Total de registros banco de dados NYT:\",collection.estimated_document_count())\n",
    "print()"
   ]
  },
  {
   "cell_type": "code",
   "execution_count": 11,
   "metadata": {},
   "outputs": [
    {
     "name": "stdout",
     "output_type": "stream",
     "text": [
      "{'_id': '4fd2135b8eb7c8105d78a7a6',\n",
      " 'abstract': None,\n",
      " 'blog': [],\n",
      " 'byline': {'original': 'By RICHARD PEREZ-PENA',\n",
      "            'person': [{'firstname': 'Richard',\n",
      "                        'lastname': 'PEREZ-PENA',\n",
      "                        'organization': '',\n",
      "                        'rank': 1,\n",
      "                        'role': 'reported'}]},\n",
      " 'document_type': 'article',\n",
      " 'headline': {'main': 'City Loses Another Round In Fight With Topless Bars'},\n",
      " 'keywords': [],\n",
      " 'lead_paragraph': \"For the second time in five months, the state's highest \"\n",
      "                   'court today said the Giuliani administration was '\n",
      "                   'overzealous in enforcing a zoning law that restricted '\n",
      "                   'sex-related businesses, this time batting down a city '\n",
      "                   'attempt to close a topless bar in Chelsea. The Court of '\n",
      "                   'Appeals found unanimously that the VIP Club at 20 West '\n",
      "                   '20th Street had successfully skirted the rules on X-rated '\n",
      "                   'businesses by turning most of its space into a restaurant '\n",
      "                   'and bar, limiting the area where it had topless dancers. '\n",
      "                   \"Today's opinion mirrors a case decided in December, when \"\n",
      "                   \"the Court of Appeals ruled against the city's bid to shut \"\n",
      "                   'down a pornographic video and book store on the Upper West '\n",
      "                   'Side.',\n",
      " 'multimedia': [],\n",
      " 'news_desk': 'Metropolitan Desk',\n",
      " 'print_page': '3',\n",
      " 'pub_date': datetime.datetime(2000, 5, 5, 0, 0),\n",
      " 'section_name': 'New York and Region',\n",
      " 'slideshow_credits': None,\n",
      " 'snippet': \"For the second time in five months, the state's highest court \"\n",
      "            'today said the Giuliani administration was overzealous in '\n",
      "            'enforcing a zoning law that restricted sex-related businesses, '\n",
      "            'this time batting down a city attempt to close a topless bar in '\n",
      "            '...',\n",
      " 'source': 'The New York Times',\n",
      " 'subsection_name': None,\n",
      " 'type_of_material': 'News',\n",
      " 'web_url': 'https://www.nytimes.com/2000/05/05/nyregion/city-loses-another-round-in-fight-with-topless-bars.html',\n",
      " 'word_count': 749}\n",
      "\n"
     ]
    }
   ],
   "source": [
    "import re\n",
    "from pprint import *\n",
    "\n",
    "regx = re.compile(\".Topless.*\", re.IGNORECASE)\n",
    "#db.users.find_one({\"files\": regx})\n",
    "\n",
    "#printFormat = pprint.PrettyPrinter(indent=4)\n",
    "\n",
    "#printFormat.pprint(collection.find_one({\"headline.main\":regx}))\n",
    "\n",
    "\n",
    "pprint(collection.find_one({\"headline.main\":regx}))\n",
    "\n",
    "print()"
   ]
  },
  {
   "cell_type": "code",
   "execution_count": 14,
   "metadata": {},
   "outputs": [
    {
     "name": "stdout",
     "output_type": "stream",
     "text": [
      "None\n"
     ]
    }
   ],
   "source": [
    "#word = '/^Yeltsin/'\n",
    "\n",
    "pprint(collection.find_one({\"headline.main\":{'$regex': '.*topless.*i'}}))"
   ]
  },
  {
   "cell_type": "code",
   "execution_count": null,
   "metadata": {},
   "outputs": [
    {
     "name": "stdout",
     "output_type": "stream",
     "text": [
      "Start: 2018-09-03 09:29:33.950893\n"
     ]
    }
   ],
   "source": [
    "#Looking for *femicide.*\" or \".*feminicide.*\" \n",
    "print('Start:',datetime.datetime.now())\n",
    "result = collection.aggregate([\n",
    "        {\n",
    "               #\"$match\": {\"headline.main\".lower(): {'$regex': \".*femicide.*\" or \".*feminicide.*\"}}\n",
    "                \"$match\": {\"headline.main\".lower(): {'$regex': \".*topless.*\"}}\n",
    "        },\n",
    "        {\n",
    "                \"$group\": {\"_id\": \"$tags\", \"count\": {\"$sum\": 1}}\n",
    "        },\n",
    "        {\n",
    "            \"$group\": {\"_id\": None, \"total\": {\"$sum\": 1}, \"details\":{\"$push\":{\"groupby\": \"$_id\", \"count\": \"$count\"}}}\n",
    "        },\n",
    "        {\n",
    "                \"$sort\": SON([(\"count\", -1), (\"_id\", -1)])\n",
    "        }\n",
    "        ])\n",
    "   \n",
    "print('End:',datetime.datetime.now())\n",
    "print()\n"
   ]
  },
  {
   "cell_type": "code",
   "execution_count": null,
   "metadata": {},
   "outputs": [],
   "source": [
    "#print(type(result))\n",
    "pprint(list(result))"
   ]
  },
  {
   "cell_type": "code",
   "execution_count": 15,
   "metadata": {},
   "outputs": [
    {
     "name": "stdout",
     "output_type": "stream",
     "text": [
      "Start: 2018-09-03 10:29:09.738417\n",
      "End: 2018-09-03 10:33:17.730601\n",
      "\n",
      "[]\n"
     ]
    }
   ],
   "source": [
    "regex = '\".*femicide.*\" or \".*feminicide.*\"'\n",
    "#regex = '\".*federal.*\"'\n",
    "field = \"headline.main\"\n",
    "\n",
    "result = searchWord(collection,field,regex)\n",
    "pprint(list(result))"
   ]
  },
  {
   "cell_type": "code",
   "execution_count": 16,
   "metadata": {},
   "outputs": [
    {
     "name": "stdout",
     "output_type": "stream",
     "text": [
      "Start: 2018-09-03 10:33:17.829607\n",
      "End: 2018-09-03 10:35:53.290499\n",
      "\n",
      "[]\n"
     ]
    }
   ],
   "source": [
    "regex = '\".*femicide.*\"'\n",
    "#regex = '\".*federal.*\"'\n",
    "field = \"abstract\"\n",
    "\n",
    "result = searchWord(collection,field,regex)\n",
    "pprint(list(result))"
   ]
  },
  {
   "cell_type": "code",
   "execution_count": null,
   "metadata": {},
   "outputs": [],
   "source": [
    "field = \"snippet\"\n",
    "\n",
    "result = searchWord(collection,field,regex)\n",
    "print(list(result))"
   ]
  },
  {
   "cell_type": "code",
   "execution_count": null,
   "metadata": {},
   "outputs": [],
   "source": [
    "field = \"lead_paragraph\"\n",
    "\n",
    "result = searchWord(collection,field,regex)\n",
    "print(list(result))"
   ]
  }
 ],
 "metadata": {
  "kernelspec": {
   "display_name": "Python 3",
   "language": "python",
   "name": "python3"
  },
  "language_info": {
   "codemirror_mode": {
    "name": "ipython",
    "version": 3
   },
   "file_extension": ".py",
   "mimetype": "text/x-python",
   "name": "python",
   "nbconvert_exporter": "python",
   "pygments_lexer": "ipython3",
   "version": "3.6.5"
  }
 },
 "nbformat": 4,
 "nbformat_minor": 2
}
